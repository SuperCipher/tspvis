{
 "cells": [
  {
   "cell_type": "code",
   "execution_count": 1,
   "metadata": {},
   "outputs": [
    {
     "data": {
      "text/plain": [
       "undefined"
      ]
     },
     "execution_count": 1,
     "metadata": {},
     "output_type": "execute_result"
    }
   ],
   "source": [
    "// Find distance on Elliptic geometry (sphere) between two points\n",
    "const distance = (pt1, pt2) => {\n",
    " const [lng1, lat1] = pt1;\n",
    " const [lng2, lat2] = pt2;\n",
    " if (lat1 === lat2 && lng1 === lng2) {\n",
    "   return 0;\n",
    " }\n",
    "\n",
    " var radlat1 = (Math.PI * lat1) / 180;\n",
    " var radlat2 = (Math.PI * lat2) / 180;\n",
    "\n",
    " var theta = lng1 - lng2;\n",
    " var radtheta = (Math.PI * theta) / 180;\n",
    "\n",
    " var dist =\n",
    "   Math.sin(radlat1) * Math.sin(radlat2) +\n",
    "   Math.cos(radlat1) * Math.cos(radlat2) * Math.cos(radtheta);\n",
    "\n",
    " if (dist > 1) {\n",
    "   dist = 1;\n",
    " }\n",
    " dist = Math.acos(dist);\n",
    " dist = (dist * 180) / Math.PI;\n",
    " return dist * 60 * 1.1515 * 1.609344;\n",
    "};"
   ]
  },
  {
   "cell_type": "code",
   "execution_count": 2,
   "metadata": {},
   "outputs": [
    {
     "data": {
      "text/plain": [
       "undefined"
      ]
     },
     "execution_count": 2,
     "metadata": {},
     "output_type": "execute_result"
    }
   ],
   "source": [
    "const usTop12 = [\n",
    "  [-73.85835427500902, 40.56507951957753],\n",
    "  [-77.54976052500858, 38.772432514145194],\n",
    "  [-78.91206521250587, 42.66742768420476],\n",
    "  // [-70.95796365000933, 42.66742768420476],\n",
    "  // [-80.27436990000314, 26.176558881220437],\n",
    "];"
   ]
  },
  {
   "cell_type": "code",
   "execution_count": 3,
   "metadata": {},
   "outputs": [
    {
     "data": {
      "text/plain": [
       "373.5088645719274"
      ]
     },
     "execution_count": 3,
     "metadata": {},
     "output_type": "execute_result"
    }
   ],
   "source": [
    "distance([-73.85835427500902, 40.56507951957753],[-77.54976052500858, 38.772432514145194])"
   ]
  },
  {
   "cell_type": "code",
   "execution_count": 4,
   "metadata": {},
   "outputs": [
    {
     "name": "stdout",
     "output_type": "stream",
     "text": [
      "[\n",
      " [\n",
      "  0,\n",
      "  373.5088645719274,\n",
      "  480.63244977638186\n",
      " ],\n",
      " [\n",
      "  373.5088645719274,\n",
      "  0,\n",
      "  448.0222630483966\n",
      " ],\n",
      " [\n",
      "  480.63244977638186,\n",
      "  448.0222630483966,\n",
      "  0\n",
      " ]\n",
      "]\n"
     ]
    },
    {
     "data": {
      "text/plain": [
       "undefined"
      ]
     },
     "execution_count": 4,
     "metadata": {},
     "output_type": "execute_result"
    }
   ],
   "source": [
    "// Create adjacency matrix\n",
    "const m = usTop12.map((pairI,i) => {\n",
    " return usTop12.map((pairJ,j)=>{\n",
    "  return distance(pairI,pairJ)\n",
    " })\n",
    "})\n",
    "console.log(JSON.stringify(m, null, \" \"))"
   ]
  },
  {
   "cell_type": "code",
   "execution_count": 5,
   "metadata": {},
   "outputs": [
    {
     "data": {
      "text/plain": [
       "undefined"
      ]
     },
     "execution_count": 5,
     "metadata": {},
     "output_type": "execute_result"
    }
   ],
   "source": [
    "// Create algorithm for angle between two lines euclidean space (cartesian coordinate system)\n",
    "//find vector components\n",
    "const degree_angle = ([A1x,A1y],[A2x,A2y],[B1x,B1y],[B2x,B2y]) => {\n",
    "  var dAx = A2x - A1x;\n",
    "  var dAy = A2y - A1y;\n",
    "  var dBx = B2x - B1x;\n",
    "  var dBy = B2y - B1y;\n",
    "  var angle = Math.atan2(dAx * dBy - dAy * dBx, dAx * dBx + dAy * dBy);\n",
    "  if(angle < 0) {angle = angle * -1;}\n",
    "  var degree_angle = angle * (180 / Math.PI);\n",
    "  return degree_angle;\n",
    "}\n"
   ]
  },
  {
   "cell_type": "code",
   "execution_count": 6,
   "metadata": {},
   "outputs": [
    {
     "data": {
      "text/plain": [
       "57.29577951308232"
      ]
     },
     "execution_count": 6,
     "metadata": {},
     "output_type": "execute_result"
    }
   ],
   "source": [
    "180 / Math.PI"
   ]
  },
  {
   "cell_type": "code",
   "execution_count": 7,
   "metadata": {},
   "outputs": [
    {
     "data": {
      "text/plain": [
       "96.62478786502162"
      ]
     },
     "execution_count": 7,
     "metadata": {},
     "output_type": "execute_result"
    }
   ],
   "source": [
    "degree_angle([-73.85835427500902, 40.56507951957753],\n",
    "[-77.54976052500858, 38.772432514145194],\n",
    "[-77.54976052500858, 38.772432514145194],\n",
    "[-78.91206521250587, 42.66742768420476])"
   ]
  },
  {
   "cell_type": "code",
   "execution_count": 8,
   "metadata": {},
   "outputs": [
    {
     "data": {
      "text/plain": [
       "96.62478786502162"
      ]
     },
     "execution_count": 8,
     "metadata": {},
     "output_type": "execute_result"
    }
   ],
   "source": [
    "degree_angle([-73.85835427500902, 40.56507951957753],\n",
    "[-77.54976052500858, 38.772432514145194],\n",
    "[-77.54976052500858, 38.772432514145194],\n",
    "[-78.91206521250587, 42.66742768420476])"
   ]
  },
  {
   "cell_type": "code",
   "execution_count": null,
   "metadata": {},
   "outputs": [],
   "source": []
  }
 ],
 "metadata": {
  "kernelspec": {
   "display_name": "JavaScript (Node.js)",
   "language": "javascript",
   "name": "javascript"
  },
  "language_info": {
   "file_extension": ".js",
   "mimetype": "application/javascript",
   "name": "javascript",
   "version": "17.6.0"
  },
  "orig_nbformat": 4
 },
 "nbformat": 4,
 "nbformat_minor": 2
}
