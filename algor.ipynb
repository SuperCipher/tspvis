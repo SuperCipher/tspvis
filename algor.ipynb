{
 "cells": [
  {
   "cell_type": "code",
   "execution_count": 1,
   "metadata": {},
   "outputs": [
    {
     "data": {
      "text/plain": [
       "undefined"
      ]
     },
     "execution_count": 1,
     "metadata": {},
     "output_type": "execute_result"
    }
   ],
   "source": [
    "const distance = (pt1, pt2) => {\n",
    " const [lng1, lat1] = pt1;\n",
    " const [lng2, lat2] = pt2;\n",
    " if (lat1 === lat2 && lng1 === lng2) {\n",
    "   return 0;\n",
    " }\n",
    "\n",
    " var radlat1 = (Math.PI * lat1) / 180;\n",
    " var radlat2 = (Math.PI * lat2) / 180;\n",
    "\n",
    " var theta = lng1 - lng2;\n",
    " var radtheta = (Math.PI * theta) / 180;\n",
    "\n",
    " var dist =\n",
    "   Math.sin(radlat1) * Math.sin(radlat2) +\n",
    "   Math.cos(radlat1) * Math.cos(radlat2) * Math.cos(radtheta);\n",
    "\n",
    " if (dist > 1) {\n",
    "   dist = 1;\n",
    " }\n",
    " dist = Math.acos(dist);\n",
    " dist = (dist * 180) / Math.PI;\n",
    " return dist * 60 * 1.1515 * 1.609344;\n",
    "};"
   ]
  },
  {
   "cell_type": "code",
   "execution_count": 2,
   "metadata": {},
   "outputs": [
    {
     "data": {
      "text/plain": [
       "undefined"
      ]
     },
     "execution_count": 2,
     "metadata": {},
     "output_type": "execute_result"
    }
   ],
   "source": [
    "const points = [\n",
    "  [-73.85835427500902, 40.56507951957753],\n",
    "  [-77.54976052500858, 38.772432514145194],\n",
    "  [-78.91206521250587, 42.66742768420476],\n",
    "  // [-70.95796365000933, 42.66742768420476],\n",
    "  // [-80.27436990000314, 26.176558881220437],\n",
    "];"
   ]
  },
  {
   "cell_type": "code",
   "execution_count": 3,
   "metadata": {},
   "outputs": [
    {
     "data": {
      "text/plain": [
       "undefined"
      ]
     },
     "execution_count": 3,
     "metadata": {},
     "output_type": "execute_result"
    }
   ],
   "source": [
    "const path = [points.shift()];"
   ]
  },
  {
   "cell_type": "code",
   "execution_count": 4,
   "metadata": {},
   "outputs": [
    {
     "data": {
      "text/plain": [
       "[ -73.85835427500902, 40.56507951957753 ]"
      ]
     },
     "execution_count": 4,
     "metadata": {},
     "output_type": "execute_result"
    }
   ],
   "source": [
    "path[0]"
   ]
  },
  {
   "cell_type": "code",
   "execution_count": 5,
   "metadata": {},
   "outputs": [
    {
     "data": {
      "text/plain": [
       "[\n",
       "  [ -78.91206521250587, 42.66742768420476 ],\n",
       "  [ -77.54976052500858, 38.772432514145194 ]\n",
       "]"
      ]
     },
     "execution_count": 5,
     "metadata": {},
     "output_type": "execute_result"
    }
   ],
   "source": [
    "points.sort((a, b) => distance(path[0], b) - distance(path[0], a));"
   ]
  },
  {
   "cell_type": "code",
   "execution_count": 6,
   "metadata": {},
   "outputs": [
    {
     "data": {
      "text/plain": [
       "2"
      ]
     },
     "execution_count": 6,
     "metadata": {},
     "output_type": "execute_result"
    }
   ],
   "source": [
    "path.push(points.pop());"
   ]
  }
 ],
 "metadata": {
  "kernelspec": {
   "display_name": "JavaScript (Node.js)",
   "language": "javascript",
   "name": "javascript"
  },
  "language_info": {
   "file_extension": ".js",
   "mimetype": "application/javascript",
   "name": "javascript",
   "version": "17.6.0"
  },
  "orig_nbformat": 4
 },
 "nbformat": 4,
 "nbformat_minor": 2
}
